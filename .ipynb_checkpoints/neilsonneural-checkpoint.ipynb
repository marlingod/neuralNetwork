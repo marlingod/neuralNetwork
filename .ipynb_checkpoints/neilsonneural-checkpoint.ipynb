{
 "cells": [
  {
   "cell_type": "code",
   "execution_count": 10,
   "metadata": {},
   "outputs": [],
   "source": [
    "import random\n",
    "import numpy as np\n",
    "\n",
    "class Network(object):\n",
    "\n",
    "  def __init__(self, sizes):\n",
    "    \"\"\" the list \"sizes contains the number of neurons in the networks\n",
    "    for example [2,3,1]\" would be three layers with the first contains 2 neurons, second have 3 neurons and the last one\"\"\"\n",
    "    self.num_layers = len(sizes)\n",
    "    self.sizes = sizes\n",
    "    self.biases = [np.random.randn(y, 1) for y in sizes[1:]]\n",
    "    self.weights = [np.random.randn(y, x) for x, y in zip(sizes[:-1], sizes[1:])]\n",
    "\n",
    "  def feedfoward(self, a):\n",
    "    \"\"\"return the output of the network if ``a`` is input\"\"\"\n",
    "    for b, w in zip[self.biases, self.weights]:\n",
    "      a = sigmoid(np.dot(w, a) + b)\n",
    "      return a\n",
    "\n",
    "  def  SGD(self, training_data, epochs, mini_batch_size, eta, test_data = None):\n",
    "    \"\"\"train the neural network using  mini-batch stochatisc gradient descent.\n",
    "    training_data is a list of tuple (x, y )\"\"\"\n",
    "    if test_data: n_test = len(list(test_data))\n",
    "    n = len(training_data)\n",
    "    for j in range(epochs):\n",
    "      random.shuffle(list(training_data))\n",
    "      mini_batches  = [\n",
    "        training_data[k:k+mini_batch_size]\n",
    "        for k in range(0, n, mini_batch_size)]\n",
    "      for mini_batch in mini_batches:\n",
    "        self.update_mini_batch(mini_batch, eta)\n",
    "      if test_data:\n",
    "        print(\"Epoch {0}: {1} / {2}\".format(j, self.evaluate(test_data), n_test))\n",
    "      else:\n",
    "        print(\"Epoch {0} complete\".format(j))\n",
    "\n",
    "\n",
    "  def update_mini_batch(self, mini_batch, eta):\n",
    "    \"\"\" Update the network's weights and biases  by applying gradient descent using backpropagation to single mini batch. the mini-batch is a list of tuples \"(x,y)\", and \"eta\"\n",
    "    is the learing rate.\"\"\"\n",
    "    nabla_b = [np.zeros(b.shape) for b in self.biases]\n",
    "    nabla_w = [np.zeros(w.shape) for w in self.weights]\n",
    "    for x, y in mini_batch:\n",
    "      delta_nabla_b, delta_nabla_w = self.backprop(x,y)\n",
    "      nabla_b = [nb+dnb for nb, dnb in zip(nabla_b, delta_nabla_b)]\n",
    "      nabla_w = [nw+dnw for nw, dnb in zip(nabla_w, delta_nabla_w)]\n",
    "    self.weights = [w - (eta / len(mini_batch)) * nw\n",
    "                    for w, nw in zip(self.weights, nabla_w)]\n",
    "    self.biases = [b - (eta / len(mini_batch)) * nb\n",
    "                    for b, nb in zip(self.weights, nabla_b)]\n",
    "\n",
    "  def backprop(self, x, y):\n",
    "    \"\"\" Return a tuple ``(nabla_b, nabla_w)`` representing the\n",
    "    gradient fo the cost function C_x. ``nabla_b`` and nabla_w are layer-by-layer\n",
    "    lists of numpy array, similar to ``self.biases`` and ``self.weights``.\"\"\"\n",
    "    nabla_b = [np.zeros(b.shape) for b in self.biases]\n",
    "    nabla_w = [np.zeros(w.shape) for b in self.biases]\n",
    "    #feedfoward\n",
    "    activation = x\n",
    "    activations =[x] # list to store all the activations, layer by layers\n",
    "    zs =[] #list to store all the z vectors layer by layer\n",
    "    for b, w in zip(self.biases, self.weights):\n",
    "      z = np.dot(w, activation) +b\n",
    "      zs.append(z)\n",
    "      activation  = sigmoid(z)\n",
    "      activations.append(activation)\n",
    "    #backward pass\n",
    "    delta  = self.cost_derivative(activations[-1], y)* sigmoid_prime(zs[-1])\n",
    "    nabla_b[-1] = delta\n",
    "    nabla_w[-1] = np.dot(delta, activations[-2].transpose())\n",
    "    # Some notes\n",
    "    for l in range(2, self.num_layers):\n",
    "      z = zs[-l]\n",
    "      sp = sigmoid_prime(z)\n",
    "      delta = np.dot(self.weights[-l +1].transpose(), delta) * sp\n",
    "      nabla_b[-l]  =delta\n",
    "      nabla_w[-l] = np.dot(delta, activations[-l-1].transpose())\n",
    "    return (nabla_b, nabla_w)\n",
    "\n",
    "  def cost_decorative(self, output_activations, y):\n",
    "    \"\"\"Return the vector of partial derivatives \\ partial C_x\n",
    "    partial a for output activations \"\"\"\n",
    "    return (output_activations-y)\n",
    "\n",
    "def sigmoid(z):\n",
    "  \"\"\" the sigmoid function \"\"\"\n",
    "  return 1.0 /(1.0 + np.exp(-z))\n",
    "\n",
    "def sigmoid_prime(z):\n",
    "  return sigmoid(z) * (1 -sigmoid(z))"
   ]
  },
  {
   "cell_type": "code",
   "execution_count": 11,
   "metadata": {},
   "outputs": [],
   "source": [
    "from utility import mnist_loader as ml"
   ]
  },
  {
   "cell_type": "code",
   "execution_count": 12,
   "metadata": {},
   "outputs": [],
   "source": [
    "training_data, validation_data, test_data = ml.load_data_wrapper()"
   ]
  },
  {
   "cell_type": "code",
   "execution_count": 13,
   "metadata": {},
   "outputs": [],
   "source": [
    "net = Network([784, 30, 10])"
   ]
  },
  {
   "cell_type": "code",
   "execution_count": 14,
   "metadata": {},
   "outputs": [
    {
     "ename": "TypeError",
     "evalue": "object of type 'zip' has no len()",
     "output_type": "error",
     "traceback": [
      "\u001b[0;31m---------------------------------------------------------------------------\u001b[0m",
      "\u001b[0;31mTypeError\u001b[0m                                 Traceback (most recent call last)",
      "\u001b[0;32m<ipython-input-14-6fb6f575c997>\u001b[0m in \u001b[0;36m<module>\u001b[0;34m\u001b[0m\n\u001b[0;32m----> 1\u001b[0;31m \u001b[0mnet\u001b[0m\u001b[0;34m.\u001b[0m\u001b[0mSGD\u001b[0m\u001b[0;34m(\u001b[0m\u001b[0mtraining_data\u001b[0m\u001b[0;34m,\u001b[0m \u001b[0;36m30\u001b[0m\u001b[0;34m,\u001b[0m \u001b[0;36m10\u001b[0m\u001b[0;34m,\u001b[0m \u001b[0;36m3.0\u001b[0m\u001b[0;34m,\u001b[0m \u001b[0mtest_data\u001b[0m\u001b[0;34m=\u001b[0m\u001b[0mtest_data\u001b[0m\u001b[0;34m)\u001b[0m\u001b[0;34m\u001b[0m\u001b[0;34m\u001b[0m\u001b[0m\n\u001b[0m",
      "\u001b[0;32m<ipython-input-10-dc0070dd998f>\u001b[0m in \u001b[0;36mSGD\u001b[0;34m(self, training_data, epochs, mini_batch_size, eta, test_data)\u001b[0m\n\u001b[1;32m     22\u001b[0m     training_data is a list of tuple (x, y )\"\"\"\n\u001b[1;32m     23\u001b[0m     \u001b[0;32mif\u001b[0m \u001b[0mtest_data\u001b[0m\u001b[0;34m:\u001b[0m \u001b[0mn_test\u001b[0m \u001b[0;34m=\u001b[0m \u001b[0mlen\u001b[0m\u001b[0;34m(\u001b[0m\u001b[0mlist\u001b[0m\u001b[0;34m(\u001b[0m\u001b[0mtest_data\u001b[0m\u001b[0;34m)\u001b[0m\u001b[0;34m)\u001b[0m\u001b[0;34m\u001b[0m\u001b[0;34m\u001b[0m\u001b[0m\n\u001b[0;32m---> 24\u001b[0;31m     \u001b[0mn\u001b[0m \u001b[0;34m=\u001b[0m \u001b[0mlen\u001b[0m\u001b[0;34m(\u001b[0m\u001b[0mtraining_data\u001b[0m\u001b[0;34m)\u001b[0m\u001b[0;34m\u001b[0m\u001b[0;34m\u001b[0m\u001b[0m\n\u001b[0m\u001b[1;32m     25\u001b[0m     \u001b[0;32mfor\u001b[0m \u001b[0mj\u001b[0m \u001b[0;32min\u001b[0m \u001b[0mrange\u001b[0m\u001b[0;34m(\u001b[0m\u001b[0mepochs\u001b[0m\u001b[0;34m)\u001b[0m\u001b[0;34m:\u001b[0m\u001b[0;34m\u001b[0m\u001b[0;34m\u001b[0m\u001b[0m\n\u001b[1;32m     26\u001b[0m       \u001b[0mrandom\u001b[0m\u001b[0;34m.\u001b[0m\u001b[0mshuffle\u001b[0m\u001b[0;34m(\u001b[0m\u001b[0mlist\u001b[0m\u001b[0;34m(\u001b[0m\u001b[0mtraining_data\u001b[0m\u001b[0;34m)\u001b[0m\u001b[0;34m)\u001b[0m\u001b[0;34m\u001b[0m\u001b[0;34m\u001b[0m\u001b[0m\n",
      "\u001b[0;31mTypeError\u001b[0m: object of type 'zip' has no len()"
     ]
    }
   ],
   "source": [
    "net.SGD(training_data, 30, 10, 3.0, test_data=test_data)"
   ]
  },
  {
   "cell_type": "code",
   "execution_count": null,
   "metadata": {},
   "outputs": [],
   "source": []
  }
 ],
 "metadata": {
  "kernelspec": {
   "display_name": "Python 3.7.6 64-bit",
   "language": "python",
   "name": "python37664bit8004753b932d4ff789652dfa9d7a5a5c"
  },
  "language_info": {
   "codemirror_mode": {
    "name": "ipython",
    "version": 3
   },
   "file_extension": ".py",
   "mimetype": "text/x-python",
   "name": "python",
   "nbconvert_exporter": "python",
   "pygments_lexer": "ipython3",
   "version": "3.7.6"
  }
 },
 "nbformat": 4,
 "nbformat_minor": 4
}
